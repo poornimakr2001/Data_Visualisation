{
  "nbformat": 4,
  "nbformat_minor": 0,
  "metadata": {
    "colab": {
      "provenance": [],
      "authorship_tag": "ABX9TyOPLZpUl0UAk3aZbD29Fj7s",
      "include_colab_link": true
    },
    "kernelspec": {
      "name": "python3",
      "display_name": "Python 3"
    },
    "language_info": {
      "name": "python"
    }
  },
  "cells": [
    {
      "cell_type": "markdown",
      "metadata": {
        "id": "view-in-github",
        "colab_type": "text"
      },
      "source": [
        "<a href=\"https://colab.research.google.com/github/poornimakr2001/Data_Visualisation/blob/main/dv3.ipynb\" target=\"_parent\"><img src=\"https://colab.research.google.com/assets/colab-badge.svg\" alt=\"Open In Colab\"/></a>"
      ]
    },
    {
      "cell_type": "code",
      "execution_count": 1,
      "metadata": {
        "id": "SqfHUul9iYnr"
      },
      "outputs": [],
      "source": [
        "import geopandas as gpd\n",
        "import matplotlib.pyplot as plt\n",
        "import folium\n"
      ]
    },
    {
      "cell_type": "code",
      "source": [
        "import pandas as pd\n",
        "\n",
        "# Example data\n",
        "data = {'Name': ['Location1', 'Location2'],\n",
        "        'Latitude': [9.9312, 10.8505],\n",
        "        'Longitude': [76.2673, 76.2711]}\n",
        "df = pd.DataFrame(data)\n"
      ],
      "metadata": {
        "id": "cCLkFWP8jOKe"
      },
      "execution_count": 2,
      "outputs": []
    },
    {
      "cell_type": "code",
      "source": [
        "gdf = gpd.GeoDataFrame(df, geometry=gpd.points_from_xy(df.Longitude, df.Latitude))\n"
      ],
      "metadata": {
        "id": "LkGFLKuNjSO7"
      },
      "execution_count": 3,
      "outputs": []
    },
    {
      "cell_type": "code",
      "source": [
        "gdf.plot(marker='o', color='red', markersize=5)\n",
        "plt.show()\n"
      ],
      "metadata": {
        "colab": {
          "base_uri": "https://localhost:8080/",
          "height": 448
        },
        "id": "q5fjEtAPjY_7",
        "outputId": "8514173d-8527-4bca-f48c-306db164c792"
      },
      "execution_count": 4,
      "outputs": [
        {
          "output_type": "display_data",
          "data": {
            "text/plain": [
              "<Figure size 640x480 with 1 Axes>"
            ],
            "image/png": "[encoded data removed]"
          },
          "metadata": {}
        }
      ]
    },
    {
      "cell_type": "code",
      "source": [
        "# Create a map centered around the first location\n",
        "m = folium.Map(location=[df.Latitude.mean(), df.Longitude.mean()], zoom_start=12)\n",
        "\n",
        "# Add points to the map\n",
        "for _, row in df.iterrows():\n",
        "    folium.Marker(location=[row['Latitude'], row['Longitude']], popup=row['Name']).add_to(m)\n",
        "\n",
        "# Display map\n",
        "m\n"
      ],
      "metadata": {
        "colab": {
          "base_uri": "https://localhost:8080/",
          "height": 865
        },
        "id": "qsOAkw6fjcW2",
        "outputId": "911b0be1-aaa4-452c-e920-90234c3bd011"
      },
      "execution_count": 5,
      "outputs": [
        {
          "output_type": "execute_result",
          "data": {
            "text/plain": [
              "<folium.folium.Map at 0x78ce6ca15000>"
            ],
            "text/html": [
              "<div style=\"width:100%;\"><div style=\"position:relative;width:100%;height:0;padding-bottom:60%;\"><span style=\"color:#565656\">Make this Notebook Trusted to load map: File -> Trust Notebook</span><iframe srcdoc=\"&lt;!DOCTYPE html&gt;\n",
              "&lt;html&gt;\n",
              "&lt;head&gt;\n",
              "    \n",
              "    &lt;meta http-equiv=&quot;content-type&quot; content=&quot;text/html; charset=UTF-8&quot; /&gt;\n",
              "    \n",
              "        &lt;script&gt;\n",
              "            L_NO_TOUCH = false;\n",
              "            L_DISABLE_3D = false;\n",
              "        &lt;/script&gt;\n",
              "    \n",
              "    &lt;style&gt;html, body {width: 100%;height: 100%;margin: 0;padding: 0;}&lt;/style&gt;\n",
              "    &lt;style&gt;#map {position:absolute;top:0;bottom:0;right:0;left:0;}&lt;/style&gt;\n",
              "    &lt;script src=&quot;https://cdn.jsdelivr.net/npm/leaflet@1.9.3/dist/leaflet.js&quot;&gt;&lt;/script&gt;\n",
              "    &lt;script src=&quot;https://code.jquery.com/jquery-3.7.1.min.js&quot;&gt;&lt;/script&gt;\n",
              "    &lt;script src=&quot;https://cdn.jsdelivr.net/npm/bootstrap@5.2.2/dist/js/bootstrap.bundle.min.js&quot;&gt;&lt;/script&gt;\n",
              "    &lt;script src=&quot;https://cdnjs.cloudflare.com/ajax/libs/Leaflet.awesome-markers/2.0.2/leaflet.awesome-markers.js&quot;&gt;&lt;/script&gt;\n",
              "    &lt;link rel=&quot;stylesheet&quot; href=&quot;https://cdn.jsdelivr.net/npm/leaflet@1.9.3/dist/leaflet.css&quot;/&gt;\n",
              "    &lt;link rel=&quot;stylesheet&quot; href=&quot;https://cdn.jsdelivr.net/npm/bootstrap@5.2.2/dist/css/bootstrap.min.css&quot;/&gt;\n",
              "    &lt;link rel=&quot;stylesheet&quot; href=&quot;https://netdna.bootstrapcdn.com/bootstrap/3.0.0/css/bootstrap-glyphicons.css&quot;/&gt;\n",
              "    &lt;link rel=&quot;stylesheet&quot; href=&quot;https://cdn.jsdelivr.net/npm/@fortawesome/fontawesome-free@6.2.0/css/all.min.css&quot;/&gt;\n",
              "    &lt;link rel=&quot;stylesheet&quot; href=&quot;https://cdnjs.cloudflare.com/ajax/libs/Leaflet.awesome-markers/2.0.2/leaflet.awesome-markers.css&quot;/&gt;\n",
              "    &lt;link rel=&quot;stylesheet&quot; href=&quot;https://cdn.jsdelivr.net/gh/python-visualization/folium/folium/templates/leaflet.awesome.rotate.min.css&quot;/&gt;\n",
              "    \n",
              "            &lt;meta name=&quot;viewport&quot; content=&quot;width=device-width,\n",
              "                initial-scale=1.0, maximum-scale=1.0, user-scalable=no&quot; /&gt;\n",
              "            &lt;style&gt;\n",
              "                #map_49a1ffc867ac203256e14a30b14eb9c5 {\n",
              "                    position: relative;\n",
              "                    width: 100.0%;\n",
              "                    height: 100.0%;\n",
              "                    left: 0.0%;\n",
              "                    top: 0.0%;\n",
              "                }\n",
              "                .leaflet-container { font-size: 1rem; }\n",
              "            &lt;/style&gt;\n",
              "        \n",
              "&lt;/head&gt;\n",
              "&lt;body&gt;\n",
              "    \n",
              "    \n",
              "            &lt;div class=&quot;folium-map&quot; id=&quot;map_49a1ffc867ac203256e14a30b14eb9c5&quot; &gt;&lt;/div&gt;\n",
              "        \n",
              "&lt;/body&gt;\n",
              "&lt;script&gt;\n",
              "    \n",
              "    \n",
              "            var map_49a1ffc867ac203256e14a30b14eb9c5 = L.map(\n",
              "                &quot;map_49a1ffc867ac203256e14a30b14eb9c5&quot;,\n",
              "                {\n",
              "                    center: [10.39085, 76.26920000000001],\n",
              "                    crs: L.CRS.EPSG3857,\n",
              "                    zoom: 12,\n",
              "                    zoomControl: true,\n",
              "                    preferCanvas: false,\n",
              "                }\n",
              "            );\n",
              "\n",
              "            \n",
              "\n",
              "        \n",
              "    \n",
              "            var tile_layer_cb75847c3d51745dc64ec1af217c5fb0 = L.tileLayer(\n",
              "                &quot;https://tile.openstreetmap.org/{z}/{x}/{y}.png&quot;,\n",
              "                {&quot;attribution&quot;: &quot;\\u0026copy; \\u003ca href=\\&quot;https://www.openstreetmap.org/copyright\\&quot;\\u003eOpenStreetMap\\u003c/a\\u003e contributors&quot;, &quot;detectRetina&quot;: false, &quot;maxNativeZoom&quot;: 19, &quot;maxZoom&quot;: 19, &quot;minZoom&quot;: 0, &quot;noWrap&quot;: false, &quot;opacity&quot;: 1, &quot;subdomains&quot;: &quot;abc&quot;, &quot;tms&quot;: false}\n",
              "            );\n",
              "        \n",
              "    \n",
              "            tile_layer_cb75847c3d51745dc64ec1af217c5fb0.addTo(map_49a1ffc867ac203256e14a30b14eb9c5);\n",
              "        \n",
              "    \n",
              "            var marker_dbf9ca644aa42a1f32586f02576ac666 = L.marker(\n",
              "                [9.9312, 76.2673],\n",
              "                {}\n",
              "            ).addTo(map_49a1ffc867ac203256e14a30b14eb9c5);\n",
              "        \n",
              "    \n",
              "        var popup_728b895530b3407d367634510bd8f229 = L.popup({&quot;maxWidth&quot;: &quot;100%&quot;});\n",
              "\n",
              "        \n",
              "            \n",
              "                var html_3625e955ea76a2b3ef973f50fc5ade66 = $(`&lt;div id=&quot;html_3625e955ea76a2b3ef973f50fc5ade66&quot; style=&quot;width: 100.0%; height: 100.0%;&quot;&gt;Location1&lt;/div&gt;`)[0];\n",
              "                popup_728b895530b3407d367634510bd8f229.setContent(html_3625e955ea76a2b3ef973f50fc5ade66);\n",
              "            \n",
              "        \n",
              "\n",
              "        marker_dbf9ca644aa42a1f32586f02576ac666.bindPopup(popup_728b895530b3407d367634510bd8f229)\n",
              "        ;\n",
              "\n",
              "        \n",
              "    \n",
              "    \n",
              "            var marker_92946ba68ee2dd995cf40a8416ca0113 = L.marker(\n",
              "                [10.8505, 76.2711],\n",
              "                {}\n",
              "            ).addTo(map_49a1ffc867ac203256e14a30b14eb9c5);\n",
              "        \n",
              "    \n",
              "        var popup_d43dbea1055a580c038f5d2e4f51ccb1 = L.popup({&quot;maxWidth&quot;: &quot;100%&quot;});\n",
              "\n",
              "        \n",
              "            \n",
              "                var html_a86814f04330787fa98ed2d906f12c1f = $(`&lt;div id=&quot;html_a86814f04330787fa98ed2d906f12c1f&quot; style=&quot;width: 100.0%; height: 100.0%;&quot;&gt;Location2&lt;/div&gt;`)[0];\n",
              "                popup_d43dbea1055a580c038f5d2e4f51ccb1.setContent(html_a86814f04330787fa98ed2d906f12c1f);\n",
              "            \n",
              "        \n",
              "\n",
              "        marker_92946ba68ee2dd995cf40a8416ca0113.bindPopup(popup_d43dbea1055a580c038f5d2e4f51ccb1)\n",
              "        ;\n",
              "\n",
              "        \n",
              "    \n",
              "&lt;/script&gt;\n",
              "&lt;/html&gt;\" style=\"position:absolute;width:100%;height:100%;left:0;top:0;border:none !important;\" allowfullscreen webkitallowfullscreen mozallowfullscreen></iframe></div></div>"
            ]
          },
          "metadata": {},
          "execution_count": 5
        }
      ]
    }
  ]
}