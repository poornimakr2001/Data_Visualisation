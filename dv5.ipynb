{
  "nbformat": 4,
  "nbformat_minor": 0,
  "metadata": {
    "colab": {
      "provenance": [],
      "authorship_tag": "ABX9TyO7DLAnq/Dvx8igeFF/1WAN",
      "include_colab_link": true
    },
    "kernelspec": {
      "name": "python3",
      "display_name": "Python 3"
    },
    "language_info": {
      "name": "python"
    }
  },
  "cells": [
    {
      "cell_type": "markdown",
      "metadata": {
        "id": "view-in-github",
        "colab_type": "text"
      },
      "source": [
        "<a href=\"https://colab.research.google.com/github/poornimakr2001/Data_Visualisation/blob/main/dv5.ipynb\" target=\"_parent\"><img src=\"https://colab.research.google.com/assets/colab-badge.svg\" alt=\"Open In Colab\"/></a>"
      ]
    },
    {
      "cell_type": "code",
      "execution_count": 2,
      "metadata": {
        "colab": {
          "base_uri": "https://localhost:8080/",
          "height": 218
        },
        "id": "Tv6vdV07VLE4",
        "outputId": "2a45bad3-b87b-49fb-a05e-f78303ff16a6"
      },
      "outputs": [
        {
          "output_type": "display_data",
          "data": {
            "text/plain": [
              "<Figure size 900x150 with 1 Axes>"
            ],
            "image/png": "[encoded data removed]"
          },
          "metadata": {}
        }
      ],
      "source": [
        "import matplotlib.pyplot as plt\n",
        "\n",
        "# Example data\n",
        "performance = 75  # Actual performance\n",
        "target = 100      # Target value\n",
        "low = 0           # Minimum value for the scale\n",
        "high = 120        # Maximum value for the scale\n",
        "thresholds = [50, 85, 100]  # Different thresholds (e.g., poor, satisfactory, excellent)\n",
        "\n",
        "# Creating the bullet chart\n",
        "fig, ax = plt.subplots(figsize=(9, 1.5))\n",
        "\n",
        "# Draw the threshold bars\n",
        "ax.barh([0], width=thresholds[2], color='lightgrey', height=0.5)\n",
        "ax.barh([0], width=thresholds[1], color='darkgrey', height=0.5)\n",
        "ax.barh([0], width=thresholds[0], color='grey', height=0.5)\n",
        "\n",
        "# Draw the actual performance bar\n",
        "ax.barh([0], width=performance, color='purple', height=0.3)\n",
        "\n",
        "# Draw the target marker line\n",
        "ax.axvline(target, color='red', linestyle='--')\n",
        "\n",
        "# Set the axis limits and labels\n",
        "ax.set_xlim(low, high)\n",
        "ax.set_yticks([])  # Hide y-axis\n",
        "ax.set_xticks([low, *thresholds, high])  # Show thresholds on x-axis\n",
        "ax.set_xticklabels([str(low), *map(str, thresholds), str(high)])\n",
        "\n",
        "# Add labels and title\n",
        "ax.set_xlabel('Performance')\n",
        "ax.set_title('Bullet Chart Example')\n",
        "\n",
        "# Display the chart\n",
        "plt.show()\n"
      ]
    }
  ]
}